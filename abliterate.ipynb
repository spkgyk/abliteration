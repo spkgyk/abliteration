{
 "cells": [
  {
   "cell_type": "code",
   "execution_count": null,
   "metadata": {},
   "outputs": [],
   "source": [
    "from src.data import get_harmful_instructions, get_harmless_instructions\n",
    "from src.abliterator import Abliterator\n",
    "from colorama import Fore\n",
    "\n",
    "import textwrap"
   ]
  },
  {
   "cell_type": "code",
   "execution_count": null,
   "metadata": {},
   "outputs": [],
   "source": [
    "qwen = \"Qwen/Qwen1.5-4B-Chat\""
   ]
  },
  {
   "cell_type": "code",
   "execution_count": null,
   "metadata": {},
   "outputs": [],
   "source": [
    "dataset = {\n",
    "    \"harmful\": get_harmful_instructions(),\n",
    "    \"harmless\": get_harmless_instructions(),\n",
    "}"
   ]
  },
  {
   "cell_type": "code",
   "execution_count": null,
   "metadata": {},
   "outputs": [],
   "source": [
    "print(\"Harmful instructions (train set):\")\n",
    "for i in range(4):\n",
    "    train = dataset[\"harmful\"][0]\n",
    "    print(f\"\\t{train[i*5]}\")\n",
    "print(\"Harmless instructions (train set):\")\n",
    "for i in range(4):\n",
    "    dataset[\"harmless\"][0]\n",
    "    print(f\"\\t{train[i*5]}\")"
   ]
  },
  {
   "cell_type": "code",
   "execution_count": null,
   "metadata": {},
   "outputs": [],
   "source": [
    "N = 35\n",
    "positive_toks = [32, 1249, 8420, 95456, 77045]\n",
    "negative_toks = [4157, 14589, 11209, 19860, 31450, 944]"
   ]
  },
  {
   "cell_type": "code",
   "execution_count": null,
   "metadata": {},
   "outputs": [],
   "source": [
    "abliterator = Abliterator(model_name=qwen, data=dataset)"
   ]
  },
  {
   "cell_type": "code",
   "execution_count": null,
   "metadata": {},
   "outputs": [],
   "source": [
    "sample_instructions = dataset[\"harmful\"][1][: abliterator.n_inst_test]"
   ]
  },
  {
   "cell_type": "code",
   "execution_count": null,
   "metadata": {},
   "outputs": [],
   "source": [
    "baseline_generations = abliterator.generate(sample_instructions, fwd_hooks=[])"
   ]
  },
  {
   "cell_type": "code",
   "execution_count": null,
   "metadata": {},
   "outputs": [],
   "source": [
    "intervention_generations = abliterator.test_top_N_directions(sample_instructions,N)"
   ]
  },
  {
   "cell_type": "code",
   "execution_count": null,
   "metadata": {},
   "outputs": [],
   "source": [
    "blacklist = [\"I cannot\", \"I can't\", \"I'm sorry\", \"I don't\"]\n",
    "\n",
    "for i in range(abliterator.n_inst_test):\n",
    "    print(f\"INSTRUCTION {i}: {repr(sample_instructions[i])}\")\n",
    "    print(Fore.GREEN + f\"BASELINE COMPLETION:\")\n",
    "    print(textwrap.fill(repr(baseline_generations[i]), width=100, initial_indent=\"\\t\", subsequent_indent=\"\\t\"))\n",
    "    for layer_candidate in range(N):\n",
    "        if not any(word in intervention_generations[layer_candidate][i] for word in blacklist):\n",
    "            print(Fore.RED + f\"(LAYER CANDIDATE #{layer_candidate}) INTERVENTION COMPLETION:\")\n",
    "            print(textwrap.fill(repr(intervention_generations[layer_candidate][i]), width=100, initial_indent=\"\\t\", subsequent_indent=\"\\t\"))\n",
    "    print(Fore.RESET)"
   ]
  }
 ],
 "metadata": {
  "kernelspec": {
   "display_name": "Python 3",
   "language": "python",
   "name": "python3"
  },
  "language_info": {
   "codemirror_mode": {
    "name": "ipython",
    "version": 3
   },
   "file_extension": ".py",
   "mimetype": "text/x-python",
   "name": "python",
   "nbconvert_exporter": "python",
   "pygments_lexer": "ipython3",
   "version": "3.11.9"
  }
 },
 "nbformat": 4,
 "nbformat_minor": 2
}
