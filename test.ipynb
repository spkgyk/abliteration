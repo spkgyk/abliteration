{
 "cells": [
  {
   "cell_type": "code",
   "execution_count": null,
   "metadata": {},
   "outputs": [],
   "source": [
    "from transformer_lens import HookedTransformer, HookedTransformerKeyValueCache, HookedTransformerKeyValueCacheEntry\n",
    "import torch\n",
    "\n",
    "batch_size = 8\n",
    "\n",
    "model = HookedTransformer.from_pretrained_no_processing(\n",
    "    model_name=\"Qwen/Qwen1.5-4B-Chat\",\n",
    "    device=\"cuda\",\n",
    "    dtype=torch.bfloat16,\n",
    "    default_padding_side=\"left\",\n",
    ")\n",
    "cache = HookedTransformerKeyValueCache.init_cache(model.cfg, model.cfg.device, batch_size)\n",
    "\n",
    "logits = model(torch.randint(1, 1000, (batch_size, 32)), past_kv_cache=cache)\n",
    "\n",
    "generating = [i for i in range(batch_size) if (i % 2)]"
   ]
  },
  {
   "cell_type": "code",
   "execution_count": null,
   "metadata": {},
   "outputs": [],
   "source": [
    "print(len(cache.entries))\n",
    "print(model.cfg.n_layers)"
   ]
  },
  {
   "cell_type": "code",
   "execution_count": null,
   "metadata": {},
   "outputs": [],
   "source": [
    "entries = [\n",
    "    HookedTransformerKeyValueCacheEntry(\n",
    "        cache[i].past_keys[generating],\n",
    "        cache[i].past_values[generating],\n",
    "        cache[i].frozen,\n",
    "    )\n",
    "    for i in range(model.cfg.n_layers)\n",
    "]\n",
    "generating_cache = HookedTransformerKeyValueCache(entries, cache.previous_attention_mask[generating, :], cache.frozen)"
   ]
  },
  {
   "cell_type": "code",
   "execution_count": null,
   "metadata": {},
   "outputs": [],
   "source": [
    "print(len(generating_cache.entries))\n",
    "print(generating_cache.previous_attention_mask.shape)"
   ]
  }
 ],
 "metadata": {
  "kernelspec": {
   "display_name": "abliteration",
   "language": "python",
   "name": "python3"
  },
  "language_info": {
   "codemirror_mode": {
    "name": "ipython",
    "version": 3
   },
   "file_extension": ".py",
   "mimetype": "text/x-python",
   "name": "python",
   "nbconvert_exporter": "python",
   "pygments_lexer": "ipython3",
   "version": "3.11.9"
  }
 },
 "nbformat": 4,
 "nbformat_minor": 2
}
